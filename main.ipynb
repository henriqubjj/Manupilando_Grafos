{
 "cells": [
  {
   "cell_type": "code",
   "execution_count": 20,
   "metadata": {},
   "outputs": [],
   "source": [
    "from functions import Grafo"
   ]
  },
  {
   "cell_type": "code",
   "execution_count": 21,
   "metadata": {},
   "outputs": [
    {
     "name": "stdout",
     "output_type": "stream",
     "text": [
      "Matriz de Adjacências:\n",
      "0 1 1 1 0 0 0\n",
      "1 0 1 1 0 0 0\n",
      "1 1 0 1 1 1 0\n",
      "1 1 1 0 0 0 0\n",
      "0 0 1 0 0 1 1\n",
      "0 0 1 0 1 0 1\n",
      "0 0 0 0 1 1 0\n",
      "\n",
      "Lista de Adjacências:\n",
      "1: [2, 3, 4]\n",
      "2: [1, 3, 4]\n",
      "3: [1, 2, 4, 5, 6]\n",
      "4: [1, 2, 3]\n",
      "5: [3, 6, 7]\n",
      "6: [3, 5, 7]\n",
      "7: [5, 6]\n"
     ]
    }
   ],
   "source": [
    "#1) Leitura e representação do grafo\n",
    "grafo = Grafo()\n",
    "grafo.carregar_grafo_do_arquivo('grafo.txt')\n",
    "print(\"\\nMatriz de Adjacências:\")\n",
    "grafo.imprimir_matriz_adj()\n",
    "print(\"\\nLista de Adjacências:\")\n",
    "grafo.imprimir_lista_adj()"
   ]
  },
  {
   "cell_type": "code",
   "execution_count": 22,
   "metadata": {},
   "outputs": [
    {
     "name": "stdout",
     "output_type": "stream",
     "text": [
      "Grau mínimo (δ(G)): 2\n",
      "Grau máximo (Δ(G)): 5\n"
     ]
    }
   ],
   "source": [
    "#2) Graus mínimo e máximo\n",
    "grafo = Grafo()\n",
    "grafo.carregar_grafo_do_arquivo('grafo.txt')\n",
    "grau_min, grau_max = grafo.calcular_graus_min_max()\n",
    "print(f\"Grau mínimo (δ(G)): {grau_min}\")\n",
    "print(f\"Grau máximo (Δ(G)): {grau_max}\")"
   ]
  },
  {
   "cell_type": "code",
   "execution_count": 23,
   "metadata": {},
   "outputs": [
    {
     "name": "stdout",
     "output_type": "stream",
     "text": [
      "Sequência de graus: [3, 3, 5, 3, 3, 3, 2]\n"
     ]
    }
   ],
   "source": [
    "#3) Sequência de graus\n",
    "grafo = Grafo()\n",
    "grafo.carregar_grafo_do_arquivo('grafo.txt')\n",
    "sequencia = grafo.sequencia_de_graus()\n",
    "print(\"Sequência de graus:\", sequencia)"
   ]
  },
  {
   "cell_type": "code",
   "execution_count": 24,
   "metadata": {},
   "outputs": [
    {
     "name": "stdout",
     "output_type": "stream",
     "text": [
      "\n",
      "Grau do vértice 1: 3\n",
      "Vizinhança aberta do vértice 1: [2, 3, 4]\n",
      "Vizinhança fechada do vértice 1: [2, 3, 4]\n"
     ]
    }
   ],
   "source": [
    "#4) Grau e vizinhanças de um vértice v\n",
    "grafo = Grafo()\n",
    "grafo.carregar_grafo_do_arquivo('grafo.txt')\n",
    "vertice = 1  # Exemplo: considerando o vértice 1\n",
    "grau, viz_aberta, viz_fechada = grafo.grau_e_vizinhanca(vertice)\n",
    "print(f\"\\nGrau do vértice {vertice}: {grau}\")\n",
    "print(f\"Vizinhança aberta do vértice {vertice}: {viz_aberta}\")\n",
    "print(f\"Vizinhança fechada do vértice {vertice}: {viz_fechada}\")"
   ]
  },
  {
   "cell_type": "code",
   "execution_count": 25,
   "metadata": {},
   "outputs": [
    {
     "name": "stdout",
     "output_type": "stream",
     "text": [
      "Os vértices 1 e 2 são vizinhos.\n"
     ]
    }
   ],
   "source": [
    "#5) Adjacência\n",
    "grafo = Grafo()\n",
    "grafo.carregar_grafo_do_arquivo('grafo.txt')\n",
    "\n",
    "u = 1\n",
    "v = 2\n",
    "\n",
    "if grafo.adjacencia(u, v):\n",
    "    print(f\"Os vértices {u} e {v} são vizinhos.\")\n",
    "else:\n",
    "    print(f\"Os vértices {u} e {v} não são vizinhos.\")"
   ]
  },
  {
   "cell_type": "code",
   "execution_count": 26,
   "metadata": {},
   "outputs": [
    {
     "name": "stdout",
     "output_type": "stream",
     "text": [
      "O grafo não é regular.\n"
     ]
    }
   ],
   "source": [
    "#6) Regularidade\n",
    "grafo = Grafo()\n",
    "grafo.carregar_grafo_do_arquivo('grafo.txt')\n",
    "\n",
    "regular, grau = grafo.regularidade()\n",
    "if regular:\n",
    "    print(f\"O grafo é {grau}-regular.\")\n",
    "else:\n",
    "    print(\"O grafo não é regular.\")"
   ]
  },
  {
   "cell_type": "code",
   "execution_count": 27,
   "metadata": {},
   "outputs": [
    {
     "name": "stdout",
     "output_type": "stream",
     "text": [
      "O grafo não é completo.\n"
     ]
    }
   ],
   "source": [
    "#7) Completude\n",
    "grafo = Grafo()\n",
    "grafo.carregar_grafo_do_arquivo('grafo.txt')\n",
    "\n",
    "if grafo.completude():\n",
    "    print(\"O grafo é completo.\")\n",
    "else:\n",
    "    print(\"O grafo não é completo.\")"
   ]
  },
  {
   "cell_type": "code",
   "execution_count": 28,
   "metadata": {},
   "outputs": [
    {
     "name": "stdout",
     "output_type": "stream",
     "text": [
      "Não existem vértices universais neste grafo.\n"
     ]
    }
   ],
   "source": [
    "#8) Vértices universais\n",
    "grafo = Grafo()\n",
    "grafo.carregar_grafo_do_arquivo('grafo.txt')\n",
    "\n",
    "vertices_universais = grafo.vertices_universais()\n",
    "if vertices_universais:\n",
    "    print(\"Vértices universais:\", vertices_universais)\n",
    "else:\n",
    "    print(\"Não existem vértices universais neste grafo.\")"
   ]
  },
  {
   "cell_type": "code",
   "execution_count": 29,
   "metadata": {},
   "outputs": [
    {
     "name": "stdout",
     "output_type": "stream",
     "text": [
      "Não existem vértices isolados neste grafo.\n"
     ]
    }
   ],
   "source": [
    "#9) Vértices isolados\n",
    "grafo = Grafo()\n",
    "grafo.carregar_grafo_do_arquivo('grafo.txt')\n",
    "\n",
    "vertices_isolados = grafo.vertices_isolados()\n",
    "if vertices_isolados:\n",
    "    print(\"Vértices isolados:\", vertices_isolados)\n",
    "else:\n",
    "    print(\"Não existem vértices isolados neste grafo.\")"
   ]
  },
  {
   "cell_type": "code",
   "execution_count": 30,
   "metadata": {},
   "outputs": [
    {
     "name": "stdout",
     "output_type": "stream",
     "text": [
      "A lista de vértices e arestas representa um subgrafo de G.\n"
     ]
    }
   ],
   "source": [
    "#10) Subgrafo\n",
    "grafo = Grafo()\n",
    "grafo.carregar_grafo_do_arquivo('grafo.txt')\n",
    "\n",
    "# Lista de vértices e arestas do subgrafo\n",
    "vertices_subgrafo = [1, 2, 3]\n",
    "arestas_subgrafo = [(1, 2), (2, 3)]\n",
    "\n",
    "if grafo.subgrafo(vertices_subgrafo, arestas_subgrafo):\n",
    "    print(\"A lista de vértices e arestas representa um subgrafo de G.\")\n",
    "else:\n",
    "    print(\"A lista de vértices e arestas NÃO representa um subgrafo de G.\")"
   ]
  },
  {
   "cell_type": "code",
   "execution_count": 31,
   "metadata": {},
   "outputs": [
    {
     "name": "stdout",
     "output_type": "stream",
     "text": [
      "A sequência de vértices constitui um passeio em G.\n"
     ]
    }
   ],
   "source": [
    "#11) Passeio\n",
    "grafo = Grafo()\n",
    "grafo.carregar_grafo_do_arquivo('grafo.txt')\n",
    "\n",
    "sequencia_vertices = [1, 2, 3, 4, 3, 6]\n",
    "\n",
    "if grafo.passeio(sequencia_vertices):\n",
    "    print(\"A sequência de vértices constitui um passeio em G.\")\n",
    "else:\n",
    "    print(\"A sequência de vértices NÃO constitui um passeio em G.\")"
   ]
  },
  {
   "cell_type": "code",
   "execution_count": 32,
   "metadata": {},
   "outputs": [
    {
     "name": "stdout",
     "output_type": "stream",
     "text": [
      "A sequência de vértices constitui um caminho em G.\n"
     ]
    }
   ],
   "source": [
    "#12) Caminho\n",
    "grafo = Grafo()\n",
    "grafo.carregar_grafo_do_arquivo('grafo.txt')\n",
    "\n",
    "sequencia_vertices = [1, 2, 3, 4]\n",
    "\n",
    "if grafo.caminho(sequencia_vertices):\n",
    "    print(\"A sequência de vértices constitui um caminho em G.\")\n",
    "else:\n",
    "    print(\"A sequência de vértices NÃO constitui um caminho em G.\")"
   ]
  },
  {
   "cell_type": "code",
   "execution_count": 33,
   "metadata": {},
   "outputs": [
    {
     "name": "stdout",
     "output_type": "stream",
     "text": [
      "A sequência de vértices constitui um ciclo em G.\n"
     ]
    }
   ],
   "source": [
    "#13) Ciclos\n",
    "grafo = Grafo()\n",
    "grafo.carregar_grafo_do_arquivo('grafo.txt')\n",
    "\n",
    "sequencia_vertices = [1, 2, 4, 3, 1]\n",
    "\n",
    "if grafo.ciclo(sequencia_vertices):\n",
    "    print(\"A sequência de vértices constitui um ciclo em G.\")\n",
    "else:\n",
    "    print(\"A sequência de vértices NÃO constitui um ciclo em G.\")"
   ]
  },
  {
   "cell_type": "code",
   "execution_count": 34,
   "metadata": {},
   "outputs": [
    {
     "name": "stdout",
     "output_type": "stream",
     "text": [
      "A sequência de vértices constitui uma trilha em G.\n"
     ]
    }
   ],
   "source": [
    "#14) Trilhas\n",
    "grafo = Grafo()\n",
    "grafo.carregar_grafo_do_arquivo('grafo.txt')\n",
    "\n",
    "sequencia_vertices = [1, 2, 4, 3, 6]\n",
    "\n",
    "if grafo.trilha(sequencia_vertices):\n",
    "    print(\"A sequência de vértices constitui uma trilha em G.\")\n",
    "else:\n",
    "    print(\"A sequência de vértices NÃO constitui uma trilha em G.\")"
   ]
  },
  {
   "cell_type": "code",
   "execution_count": 35,
   "metadata": {},
   "outputs": [
    {
     "name": "stdout",
     "output_type": "stream",
     "text": [
      "O conjunto de vértices constitui um clique em G.\n"
     ]
    }
   ],
   "source": [
    "#15) Cliques\n",
    "grafo = Grafo()\n",
    "grafo.carregar_grafo_do_arquivo('grafo.txt')\n",
    "\n",
    "conjunto_vertices = {1, 2, 3}\n",
    "\n",
    "if grafo.clique(conjunto_vertices):\n",
    "    print(\"O conjunto de vértices constitui um clique em G.\")\n",
    "else:\n",
    "    print(\"O conjunto de vértices NÃO constitui um clique em G.\")"
   ]
  },
  {
   "cell_type": "code",
   "execution_count": 36,
   "metadata": {},
   "outputs": [
    {
     "name": "stdout",
     "output_type": "stream",
     "text": [
      "O conjunto de vértices constitui um clique maximal em G.\n"
     ]
    }
   ],
   "source": [
    "#16) Clique maximal\n",
    "grafo = Grafo()\n",
    "grafo.carregar_grafo_do_arquivo('grafo.txt')\n",
    "\n",
    "conjunto_vertices = {1, 2, 3, 4}\n",
    "\n",
    "if grafo.clique_maximal(conjunto_vertices):\n",
    "    print(\"O conjunto de vértices constitui um clique maximal em G.\")\n",
    "else:\n",
    "    print(\"O conjunto de vértices NÃO constitui um clique maximal em G.\")\n"
   ]
  },
  {
   "cell_type": "code",
   "execution_count": 37,
   "metadata": {},
   "outputs": [
    {
     "name": "stdout",
     "output_type": "stream",
     "text": [
      "Matriz de adjacências do complemento:\n",
      "0 0 0 0 1 1 1\n",
      "0 0 0 0 1 1 1\n",
      "0 0 0 0 0 0 1\n",
      "0 0 0 0 1 1 1\n",
      "1 1 0 1 0 0 0\n",
      "1 1 0 1 0 0 0\n",
      "1 1 1 1 0 0 0\n"
     ]
    }
   ],
   "source": [
    "#17) Complemento\n",
    "grafo = Grafo()\n",
    "grafo.carregar_grafo_do_arquivo('grafo.txt')\n",
    "\n",
    "complemento = grafo.complemento()\n",
    "print(\"Matriz de adjacências do complemento:\")\n",
    "complemento.imprimir_matriz_adj()"
   ]
  },
  {
   "cell_type": "code",
   "execution_count": 38,
   "metadata": {},
   "outputs": [
    {
     "name": "stdout",
     "output_type": "stream",
     "text": [
      "O conjunto de vértices constitui um conjunto independente em G.\n"
     ]
    }
   ],
   "source": [
    "#18) Conjunto independente\n",
    "grafo = Grafo()\n",
    "grafo.carregar_grafo_do_arquivo('grafo.txt')\n",
    "\n",
    "conjunto_vertices = {1, 7}\n",
    "\n",
    "if grafo.conjunto_independente(conjunto_vertices):\n",
    "    print(\"O conjunto de vértices constitui um conjunto independente em G.\")\n",
    "else:\n",
    "    print(\"O conjunto de vértices NÃO constitui um conjunto independente em G.\")"
   ]
  }
 ],
 "metadata": {
  "kernelspec": {
   "display_name": "Python 3",
   "language": "python",
   "name": "python3"
  },
  "language_info": {
   "codemirror_mode": {
    "name": "ipython",
    "version": 3
   },
   "file_extension": ".py",
   "mimetype": "text/x-python",
   "name": "python",
   "nbconvert_exporter": "python",
   "pygments_lexer": "ipython3",
   "version": "3.12.2"
  }
 },
 "nbformat": 4,
 "nbformat_minor": 2
}
